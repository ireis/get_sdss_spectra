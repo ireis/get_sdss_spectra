{
 "cells": [
  {
   "cell_type": "code",
   "execution_count": 1,
   "metadata": {},
   "outputs": [],
   "source": [
    "import numpy\n",
    "import pandas\n",
    "import sys\n",
    "sys.path\n",
    "sys.path.append('../get_data/')\n",
    "sys.path.append('../')\n",
    "import download_sdss_spectra as dss\n",
    "import load_sdss_spectra as lss\n",
    "import matplotlib.pyplot as plt\n",
    "from matplotlib_params import set_plt_params\n",
    "plt = set_plt_params(plt)"
   ]
  },
  {
   "cell_type": "code",
   "execution_count": 2,
   "metadata": {},
   "outputs": [],
   "source": [
    "# The csv file with the identifiers was obtained from SDSS casjobs:\n",
    "\n",
    "#https://skyserver.sdss.org/CasJobs\n",
    "\n",
    "#with \n",
    "\n",
    "#SELECT  s.specObjID, s.plate,s.mjd,s.fiberid, s.run2d, s.z, s.class, p.extinction_g, s.snMedian, s.ra, s.dec into mydb.all_galaxies_and_quasars from ..SpecObj as s \n",
    "#LEFT JOIN PhotoObjAll p on s.bestObjID = p. objID \n",
    "#WHERE (    ((s.class = 'QSO') OR (s.class = 'GALAXY'))   AND (s.snMedian > 5))"
   ]
  },
  {
   "cell_type": "code",
   "execution_count": 4,
   "metadata": {},
   "outputs": [
    {
     "data": {
      "text/html": [
       "<div>\n",
       "<style scoped>\n",
       "    .dataframe tbody tr th:only-of-type {\n",
       "        vertical-align: middle;\n",
       "    }\n",
       "\n",
       "    .dataframe tbody tr th {\n",
       "        vertical-align: top;\n",
       "    }\n",
       "\n",
       "    .dataframe thead th {\n",
       "        text-align: right;\n",
       "    }\n",
       "</style>\n",
       "<table border=\"1\" class=\"dataframe\">\n",
       "  <thead>\n",
       "    <tr style=\"text-align: right;\">\n",
       "      <th></th>\n",
       "      <th>specObjID</th>\n",
       "      <th>plate</th>\n",
       "      <th>mjd</th>\n",
       "      <th>fiberid</th>\n",
       "      <th>run2d</th>\n",
       "      <th>z</th>\n",
       "      <th>class</th>\n",
       "      <th>extinction_g</th>\n",
       "      <th>snMedian</th>\n",
       "      <th>ra</th>\n",
       "      <th>dec</th>\n",
       "    </tr>\n",
       "  </thead>\n",
       "  <tbody>\n",
       "    <tr>\n",
       "      <th>0</th>\n",
       "      <td>403152186621585408</td>\n",
       "      <td>358</td>\n",
       "      <td>51818</td>\n",
       "      <td>291</td>\n",
       "      <td>26</td>\n",
       "      <td>0.179752</td>\n",
       "      <td>GALAXY</td>\n",
       "      <td>NaN</td>\n",
       "      <td>11.27980</td>\n",
       "      <td>261.429360</td>\n",
       "      <td>55.959943</td>\n",
       "    </tr>\n",
       "    <tr>\n",
       "      <th>1</th>\n",
       "      <td>403184072458790912</td>\n",
       "      <td>358</td>\n",
       "      <td>51818</td>\n",
       "      <td>407</td>\n",
       "      <td>26</td>\n",
       "      <td>0.079061</td>\n",
       "      <td>GALAXY</td>\n",
       "      <td>NaN</td>\n",
       "      <td>20.42518</td>\n",
       "      <td>262.248480</td>\n",
       "      <td>57.515854</td>\n",
       "    </tr>\n",
       "    <tr>\n",
       "      <th>2</th>\n",
       "      <td>440234040298072064</td>\n",
       "      <td>391</td>\n",
       "      <td>51782</td>\n",
       "      <td>26</td>\n",
       "      <td>26</td>\n",
       "      <td>0.107172</td>\n",
       "      <td>GALAXY</td>\n",
       "      <td>NaN</td>\n",
       "      <td>10.12399</td>\n",
       "      <td>8.211277</td>\n",
       "      <td>-0.405740</td>\n",
       "    </tr>\n",
       "    <tr>\n",
       "      <th>3</th>\n",
       "      <td>425673213918341120</td>\n",
       "      <td>378</td>\n",
       "      <td>52146</td>\n",
       "      <td>302</td>\n",
       "      <td>26</td>\n",
       "      <td>0.055970</td>\n",
       "      <td>GALAXY</td>\n",
       "      <td>NaN</td>\n",
       "      <td>21.79805</td>\n",
       "      <td>340.191580</td>\n",
       "      <td>-0.383813</td>\n",
       "    </tr>\n",
       "    <tr>\n",
       "      <th>4</th>\n",
       "      <td>425759525581121536</td>\n",
       "      <td>378</td>\n",
       "      <td>52146</td>\n",
       "      <td>616</td>\n",
       "      <td>26</td>\n",
       "      <td>0.144940</td>\n",
       "      <td>GALAXY</td>\n",
       "      <td>NaN</td>\n",
       "      <td>10.41913</td>\n",
       "      <td>342.062680</td>\n",
       "      <td>0.936796</td>\n",
       "    </tr>\n",
       "  </tbody>\n",
       "</table>\n",
       "</div>"
      ],
      "text/plain": [
       "            specObjID  plate    mjd  fiberid run2d         z   class  \\\n",
       "0  403152186621585408    358  51818      291    26  0.179752  GALAXY   \n",
       "1  403184072458790912    358  51818      407    26  0.079061  GALAXY   \n",
       "2  440234040298072064    391  51782       26    26  0.107172  GALAXY   \n",
       "3  425673213918341120    378  52146      302    26  0.055970  GALAXY   \n",
       "4  425759525581121536    378  52146      616    26  0.144940  GALAXY   \n",
       "\n",
       "   extinction_g  snMedian          ra        dec  \n",
       "0           NaN  11.27980  261.429360  55.959943  \n",
       "1           NaN  20.42518  262.248480  57.515854  \n",
       "2           NaN  10.12399    8.211277  -0.405740  \n",
       "3           NaN  21.79805  340.191580  -0.383813  \n",
       "4           NaN  10.41913  342.062680   0.936796  "
      ]
     },
     "execution_count": 4,
     "metadata": {},
     "output_type": "execute_result"
    }
   ],
   "source": [
    "all_galaxies_identifiers = pandas.read_csv('../get_data/all_high_snr_galaxies_and_quasars.csv')\n",
    "all_galaxies_identifiers.head()"
   ]
  },
  {
   "cell_type": "code",
   "execution_count": 5,
   "metadata": {},
   "outputs": [
    {
     "data": {
      "text/html": [
       "<div>\n",
       "<style scoped>\n",
       "    .dataframe tbody tr th:only-of-type {\n",
       "        vertical-align: middle;\n",
       "    }\n",
       "\n",
       "    .dataframe tbody tr th {\n",
       "        vertical-align: top;\n",
       "    }\n",
       "\n",
       "    .dataframe thead th {\n",
       "        text-align: right;\n",
       "    }\n",
       "</style>\n",
       "<table border=\"1\" class=\"dataframe\">\n",
       "  <thead>\n",
       "    <tr style=\"text-align: right;\">\n",
       "      <th></th>\n",
       "      <th>plate</th>\n",
       "      <th>mjd</th>\n",
       "      <th>fiberid</th>\n",
       "    </tr>\n",
       "  </thead>\n",
       "  <tbody>\n",
       "    <tr>\n",
       "      <th>0</th>\n",
       "      <td>358</td>\n",
       "      <td>51818</td>\n",
       "      <td>291</td>\n",
       "    </tr>\n",
       "    <tr>\n",
       "      <th>1</th>\n",
       "      <td>358</td>\n",
       "      <td>51818</td>\n",
       "      <td>407</td>\n",
       "    </tr>\n",
       "    <tr>\n",
       "      <th>2</th>\n",
       "      <td>391</td>\n",
       "      <td>51782</td>\n",
       "      <td>26</td>\n",
       "    </tr>\n",
       "    <tr>\n",
       "      <th>3</th>\n",
       "      <td>378</td>\n",
       "      <td>52146</td>\n",
       "      <td>302</td>\n",
       "    </tr>\n",
       "    <tr>\n",
       "      <th>4</th>\n",
       "      <td>378</td>\n",
       "      <td>52146</td>\n",
       "      <td>616</td>\n",
       "    </tr>\n",
       "  </tbody>\n",
       "</table>\n",
       "</div>"
      ],
      "text/plain": [
       "   plate    mjd  fiberid\n",
       "0    358  51818      291\n",
       "1    358  51818      407\n",
       "2    391  51782       26\n",
       "3    378  52146      302\n",
       "4    378  52146      616"
      ]
     },
     "execution_count": 5,
     "metadata": {},
     "output_type": "execute_result"
    }
   ],
   "source": [
    "# This is what we need in order to download the spectra itself:\n",
    "dl_spectra_df = all_galaxies_identifiers[['plate','mjd','fiberid']]\n",
    "dl_spectra_df.head()"
   ]
  },
  {
   "cell_type": "code",
   "execution_count": 6,
   "metadata": {
    "scrolled": true
   },
   "outputs": [
    {
     "name": "stderr",
     "output_type": "stream",
     "text": [
      "../get_data/download_sdss_spectra.py:183: SettingWithCopyWarning: \n",
      "A value is trying to be set on a copy of a slice from a DataFrame.\n",
      "Try using .loc[row_indexer,col_indexer] = value instead\n",
      "\n",
      "See the caveats in the documentation: http://pandas.pydata.org/pandas-docs/stable/indexing.html#indexing-view-versus-copy\n",
      "  df['run2d'] = run2d\n"
     ]
    },
    {
     "name": "stdout",
     "output_type": "stream",
     "text": [
      "Valid file exists ../data/dr15/sdss/spectro/redux/26/spectra/lite/0358/spec-0358-51818-0291.fits\n",
      "Valid file exists ../data/dr15/sdss/spectro/redux/26/spectra/lite/0358/spec-0358-51818-0407.fits\n",
      "Valid file exists ../data/dr15/sdss/spectro/redux/26/spectra/lite/0391/spec-0391-51782-0026.fits\n",
      "Valid file exists ../data/dr15/sdss/spectro/redux/26/spectra/lite/0378/spec-0378-52146-0302.fits\n",
      "Valid file exists ../data/dr15/sdss/spectro/redux/26/spectra/lite/0378/spec-0378-52146-0616.fits\n",
      "Valid file exists ../data/dr15/sdss/spectro/redux/26/spectra/lite/0378/spec-0378-52146-0635.fits\n",
      "Valid file exists ../data/dr15/sdss/spectro/redux/26/spectra/lite/0413/spec-0413-51821-0205.fits\n",
      "Valid file exists ../data/dr15/sdss/spectro/redux/26/spectra/lite/0496/spec-0496-51988-0389.fits\n",
      "Valid file exists ../data/dr15/sdss/spectro/redux/26/spectra/lite/0496/spec-0496-51988-0475.fits\n",
      "Valid file exists ../data/dr15/sdss/spectro/redux/26/spectra/lite/0496/spec-0496-51988-0486.fits\n",
      "Valid file exists ../data/dr15/sdss/spectro/redux/26/spectra/lite/0498/spec-0498-51984-0514.fits\n",
      "Valid file exists ../data/dr15/sdss/spectro/redux/26/spectra/lite/0630/spec-0630-52050-0278.fits\n",
      "Valid file exists ../data/dr15/sdss/spectro/redux/26/spectra/lite/0631/spec-0631-52079-0380.fits\n",
      "Valid file exists ../data/dr15/sdss/spectro/redux/26/spectra/lite/0499/spec-0499-51988-0211.fits\n",
      "Valid file exists ../data/dr15/sdss/spectro/redux/26/spectra/lite/0860/spec-0860-52319-0451.fits\n",
      "Valid file exists ../data/dr15/sdss/spectro/redux/26/spectra/lite/0805/spec-0805-52586-0258.fits\n",
      "Valid file exists ../data/dr15/sdss/spectro/redux/26/spectra/lite/1037/spec-1037-52878-0235.fits\n",
      "Valid file exists ../data/dr15/sdss/spectro/redux/26/spectra/lite/1079/spec-1079-52621-0375.fits\n",
      "Valid file exists ../data/dr15/sdss/spectro/redux/26/spectra/lite/0924/spec-0924-52409-0086.fits\n",
      "Valid file exists ../data/dr15/sdss/spectro/redux/26/spectra/lite/0924/spec-0924-52409-0095.fits\n",
      "Valid file exists ../data/dr15/sdss/spectro/redux/26/spectra/lite/0927/spec-0927-52577-0123.fits\n",
      "Valid file exists ../data/dr15/sdss/spectro/redux/26/spectra/lite/1080/spec-1080-52614-0006.fits\n",
      "Valid file exists ../data/dr15/sdss/spectro/redux/26/spectra/lite/1168/spec-1168-52731-0009.fits\n",
      "Valid file exists ../data/dr15/sdss/spectro/redux/26/spectra/lite/1168/spec-1168-52731-0017.fits\n",
      "Valid file exists ../data/dr15/sdss/spectro/redux/26/spectra/lite/1174/spec-1174-52782-0547.fits\n",
      "Valid file exists ../data/dr15/sdss/spectro/redux/26/spectra/lite/1174/spec-1174-52782-0559.fits\n",
      "Valid file exists ../data/dr15/sdss/spectro/redux/26/spectra/lite/1185/spec-1185-52642-0302.fits\n",
      "Valid file exists ../data/dr15/sdss/spectro/redux/26/spectra/lite/1190/spec-1190-52670-0215.fits\n",
      "Valid file exists ../data/dr15/sdss/spectro/redux/26/spectra/lite/1192/spec-1192-52649-0119.fits\n",
      "Valid file exists ../data/dr15/sdss/spectro/redux/26/spectra/lite/1366/spec-1366-53063-0588.fits\n",
      "Valid file exists ../data/dr15/sdss/spectro/redux/26/spectra/lite/1378/spec-1378-53061-0019.fits\n",
      "Valid file exists ../data/dr15/sdss/spectro/redux/26/spectra/lite/1210/spec-1210-52701-0136.fits\n",
      "Valid file exists ../data/dr15/sdss/spectro/redux/26/spectra/lite/1210/spec-1210-52701-0144.fits\n",
      "Valid file exists ../data/dr15/sdss/spectro/redux/26/spectra/lite/1210/spec-1210-52701-0166.fits\n",
      "Valid file exists ../data/dr15/sdss/spectro/redux/26/spectra/lite/1223/spec-1223-52781-0331.fits\n",
      "Valid file exists ../data/dr15/sdss/spectro/redux/26/spectra/lite/1442/spec-1442-53050-0262.fits\n",
      "Valid file exists ../data/dr15/sdss/spectro/redux/26/spectra/lite/1442/spec-1442-53050-0330.fits\n",
      "Valid file exists ../data/dr15/sdss/spectro/redux/26/spectra/lite/1451/spec-1451-53117-0180.fits\n",
      "Valid file exists ../data/dr15/sdss/spectro/redux/26/spectra/lite/1451/spec-1451-53117-0274.fits\n",
      "Valid file exists ../data/dr15/sdss/spectro/redux/26/spectra/lite/1451/spec-1451-53117-0279.fits\n",
      "Valid file exists ../data/dr15/sdss/spectro/redux/26/spectra/lite/1780/spec-1780-53090-0277.fits\n",
      "Valid file exists ../data/dr15/sdss/spectro/redux/26/spectra/lite/1645/spec-1645-53172-0336.fits\n",
      "Valid file exists ../data/dr15/sdss/spectro/redux/26/spectra/lite/0305/spec-0305-51613-0373.fits\n",
      "Valid file exists ../data/dr15/sdss/spectro/redux/26/spectra/lite/0305/spec-0305-51613-0554.fits\n",
      "Valid file exists ../data/dr15/sdss/spectro/redux/26/spectra/lite/0306/spec-0306-51637-0061.fits\n",
      "Valid file exists ../data/dr15/sdss/spectro/redux/26/spectra/lite/0331/spec-0331-52368-0405.fits\n",
      "Valid file exists ../data/dr15/sdss/spectro/redux/26/spectra/lite/0331/spec-0331-52368-0408.fits\n",
      "Valid file exists ../data/dr15/sdss/spectro/redux/26/spectra/lite/0331/spec-0331-52368-0425.fits\n",
      "Valid file exists ../data/dr15/sdss/spectro/redux/26/spectra/lite/0331/spec-0331-52368-0449.fits\n",
      "Valid file exists ../data/dr15/sdss/spectro/redux/26/spectra/lite/0331/spec-0331-52368-0639.fits\n",
      "Valid file exists ../data/dr15/sdss/spectro/redux/26/spectra/lite/0425/spec-0425-51898-0527.fits\n",
      "Valid file exists ../data/dr15/sdss/spectro/redux/26/spectra/lite/0425/spec-0425-51898-0640.fits\n",
      "Valid file exists ../data/dr15/sdss/spectro/redux/26/spectra/lite/0410/spec-0410-51877-0278.fits\n",
      "Valid file exists ../data/dr15/sdss/spectro/redux/26/spectra/lite/0647/spec-0647-52553-0254.fits\n",
      "Valid file exists ../data/dr15/sdss/spectro/redux/26/spectra/lite/0648/spec-0648-52559-0337.fits\n",
      "Valid file exists ../data/dr15/sdss/spectro/redux/26/spectra/lite/0656/spec-0656-52148-0373.fits\n",
      "Valid file exists ../data/dr15/sdss/spectro/redux/26/spectra/lite/0619/spec-0619-52056-0153.fits\n",
      "Valid file exists ../data/dr15/sdss/spectro/redux/26/spectra/lite/0593/spec-0593-52026-0196.fits\n",
      "Valid file exists ../data/dr15/sdss/spectro/redux/26/spectra/lite/0819/spec-0819-52409-0408.fits\n",
      "Valid file exists ../data/dr15/sdss/spectro/redux/26/spectra/lite/0827/spec-0827-52312-0574.fits\n",
      "Valid file exists ../data/dr15/sdss/spectro/redux/26/spectra/lite/0827/spec-0827-52312-0578.fits\n",
      "Valid file exists ../data/dr15/sdss/spectro/redux/26/spectra/lite/0831/spec-0831-52294-0275.fits\n",
      "Downloading new file ../data/dr15/sdss/spectro/redux/26/spectra/lite/1047/spec-1047-52733-0349.fits\n",
      "Downloading new file ../data/dr15/sdss/spectro/redux/26/spectra/lite/1056/spec-1056-52764-0158.fits\n",
      "Downloading new file ../data/dr15/sdss/spectro/redux/26/spectra/lite/0967/spec-0967-52636-0366.fits\n",
      "Downloading new file ../data/dr15/sdss/spectro/redux/26/spectra/lite/0979/spec-0979-52427-0258.fits\n",
      "Downloading new file ../data/dr15/sdss/spectro/redux/26/spectra/lite/0981/spec-0981-52435-0148.fits\n",
      "Downloading new file ../data/dr15/sdss/spectro/redux/26/spectra/lite/0920/spec-0920-52411-0580.fits\n",
      "Downloading new file ../data/dr15/sdss/spectro/redux/26/spectra/lite/0924/spec-0924-52409-0209.fits\n",
      "Downloading new file ../data/dr15/sdss/spectro/redux/26/spectra/lite/0924/spec-0924-52409-0210.fits\n",
      "Downloading new file ../data/dr15/sdss/spectro/redux/26/spectra/lite/0925/spec-0925-52411-0254.fits\n",
      "Downloading new file ../data/dr15/sdss/spectro/redux/26/spectra/lite/0926/spec-0926-52413-0025.fits\n",
      "Downloading new file ../data/dr15/sdss/spectro/redux/26/spectra/lite/0926/spec-0926-52413-0035.fits\n",
      "Downloading new file ../data/dr15/sdss/spectro/redux/26/spectra/lite/1186/spec-1186-52646-0497.fits\n",
      "Downloading new file ../data/dr15/sdss/spectro/redux/26/spectra/lite/1008/spec-1008-52707-0355.fits\n",
      "Downloading new file ../data/dr15/sdss/spectro/redux/26/spectra/lite/1015/spec-1015-52734-0546.fits\n",
      "Downloading new file ../data/dr15/sdss/spectro/redux/26/spectra/lite/1015/spec-1015-52734-0548.fits\n",
      "Downloading new file ../data/dr15/sdss/spectro/redux/26/spectra/lite/1016/spec-1016-52759-0006.fits\n",
      "Downloading new file ../data/dr15/sdss/spectro/redux/26/spectra/lite/1023/spec-1023-52818-0583.fits\n",
      "Downloading new file ../data/dr15/sdss/spectro/redux/26/spectra/lite/1427/spec-1427-52996-0257.fits\n",
      "Downloading new file ../data/dr15/sdss/spectro/redux/26/spectra/lite/1429/spec-1429-52990-0101.fits\n",
      "Downloading new file ../data/dr15/sdss/spectro/redux/26/spectra/lite/1429/spec-1429-52990-0171.fits\n",
      "Downloading new file ../data/dr15/sdss/spectro/redux/26/spectra/lite/1401/spec-1401-53144-0409.fits\n",
      "Downloading new file ../data/dr15/sdss/spectro/redux/26/spectra/lite/1401/spec-1401-53144-0410.fits\n"
     ]
    },
    {
     "name": "stdout",
     "output_type": "stream",
     "text": [
      "Downloading new file ../data/dr15/sdss/spectro/redux/26/spectra/lite/1436/spec-1436-53054-0429.fits\n",
      "Downloading new file ../data/dr15/sdss/spectro/redux/26/spectra/lite/1441/spec-1441-53083-0609.fits\n",
      "Downloading new file ../data/dr15/sdss/spectro/redux/26/spectra/lite/1610/spec-1610-53144-0270.fits\n",
      "Downloading new file ../data/dr15/sdss/spectro/redux/26/spectra/lite/1676/spec-1676-53147-0415.fits\n",
      "Downloading new file ../data/dr15/sdss/spectro/redux/26/spectra/lite/0306/spec-0306-51637-0571.fits\n",
      "Downloading new file ../data/dr15/sdss/spectro/redux/26/spectra/lite/0307/spec-0307-51663-0185.fits\n",
      "Downloading new file ../data/dr15/sdss/spectro/redux/26/spectra/lite/0307/spec-0307-51663-0263.fits\n",
      "Downloading new file ../data/dr15/sdss/spectro/redux/26/spectra/lite/0307/spec-0307-51663-0383.fits\n",
      "Downloading new file ../data/dr15/sdss/spectro/redux/26/spectra/lite/0362/spec-0362-51999-0506.fits\n",
      "Downloading new file ../data/dr15/sdss/spectro/redux/26/spectra/lite/0379/spec-0379-51789-0405.fits\n",
      "Downloading new file ../data/dr15/sdss/spectro/redux/26/spectra/lite/0434/spec-0434-51885-0228.fits\n",
      "Downloading new file ../data/dr15/sdss/spectro/redux/26/spectra/lite/0434/spec-0434-51885-0279.fits\n",
      "Downloading new file ../data/dr15/sdss/spectro/redux/26/spectra/lite/0569/spec-0569-52264-0605.fits\n",
      "Downloading new file ../data/dr15/sdss/spectro/redux/26/spectra/lite/0569/spec-0569-52264-0613.fits\n",
      "Downloading new file ../data/dr15/sdss/spectro/redux/26/spectra/lite/0487/spec-0487-51943-0335.fits\n",
      "Downloading new file ../data/dr15/sdss/spectro/redux/26/spectra/lite/0503/spec-0503-51999-0065.fits\n"
     ]
    }
   ],
   "source": [
    "# Try it with first 100\n",
    "dss.download_spectra(dl_spectra_df.iloc[:100])"
   ]
  },
  {
   "cell_type": "code",
   "execution_count": 8,
   "metadata": {},
   "outputs": [
    {
     "name": "stderr",
     "output_type": "stream",
     "text": [
      "../get_data/download_sdss_spectra.py:183: SettingWithCopyWarning: \n",
      "A value is trying to be set on a copy of a slice from a DataFrame.\n",
      "Try using .loc[row_indexer,col_indexer] = value instead\n",
      "\n",
      "See the caveats in the documentation: http://pandas.pydata.org/pandas-docs/stable/indexing.html#indexing-view-versus-copy\n",
      "  df['run2d'] = run2d\n",
      "[Parallel(n_jobs=-1)]: Using backend LokyBackend with 8 concurrent workers.\n",
      "[Parallel(n_jobs=-1)]: Done   2 tasks      | elapsed:    1.5s\n",
      "[Parallel(n_jobs=-1)]: Done   9 tasks      | elapsed:    1.6s\n",
      "[Parallel(n_jobs=-1)]: Done  16 tasks      | elapsed:    1.6s\n",
      "[Parallel(n_jobs=-1)]: Done  25 tasks      | elapsed:    1.6s\n",
      "[Parallel(n_jobs=-1)]: Batch computation too fast (0.1863s.) Setting batch_size=2.\n",
      "[Parallel(n_jobs=-1)]: Done  34 tasks      | elapsed:    1.7s\n",
      "[Parallel(n_jobs=-1)]: Batch computation too fast (0.0656s.) Setting batch_size=12.\n",
      "[Parallel(n_jobs=-1)]: Done  47 tasks      | elapsed:    1.7s\n",
      "[Parallel(n_jobs=-1)]: Done  63 out of 100 | elapsed:    1.8s remaining:    1.0s\n",
      "[Parallel(n_jobs=-1)]: Done 100 out of 100 | elapsed:    1.9s finished\n"
     ]
    },
    {
     "data": {
      "text/plain": [
       "(100, 4200)"
      ]
     },
     "execution_count": 8,
     "metadata": {},
     "output_type": "execute_result"
    }
   ],
   "source": [
    "# build a wavelength grid to interpolate the spectra to\n",
    "s = 3800\n",
    "e = 7400\n",
    "wave = numpy.exp(numpy.linspace(numpy.log(s), numpy.log(e), 4200))\n",
    "\n",
    "# load the spectra (first 100)\n",
    "specs = lss.load_spectra(dl_spectra_df.iloc[:100], wave)\n",
    "specs.shape"
   ]
  },
  {
   "cell_type": "code",
   "execution_count": 13,
   "metadata": {},
   "outputs": [
    {
     "data": {
      "image/png": "[encoded data removed]",
      "text/plain": [
       "<Figure size 1080x504 with 1 Axes>"
      ]
     },
     "metadata": {
      "needs_background": "light"
     },
     "output_type": "display_data"
    }
   ],
   "source": [
    "plt.figure(figsize = (15,7))\n",
    "idx = numpy.random.choice(specs.shape[0])\n",
    "plt.rcParams['figure.figsize'] = 10, 4\n",
    "plt.step(wave, specs[idx], \"k\")\n",
    "plt.xlabel(\"observed wavelength\")\n",
    "plt.ylabel(\"$\\\\mathrm{flux\\\\,[10^{-17}\\\\, erg \\\\, cm^{-2} \\\\, s^{-1} \\\\, \\\\AA^{-1}] }$\")\n",
    "plt.tight_layout()"
   ]
  },
  {
   "cell_type": "code",
   "execution_count": null,
   "metadata": {},
   "outputs": [],
   "source": []
  },
  {
   "cell_type": "code",
   "execution_count": null,
   "metadata": {},
   "outputs": [],
   "source": []
  }
 ],
 "metadata": {
  "kernelspec": {
   "display_name": "Python 3",
   "language": "python",
   "name": "python3"
  },
  "language_info": {
   "codemirror_mode": {
    "name": "ipython",
    "version": 3
   },
   "file_extension": ".py",
   "mimetype": "text/x-python",
   "name": "python",
   "nbconvert_exporter": "python",
   "pygments_lexer": "ipython3",
   "version": "3.7.2"
  }
 },
 "nbformat": 4,
 "nbformat_minor": 2
}
